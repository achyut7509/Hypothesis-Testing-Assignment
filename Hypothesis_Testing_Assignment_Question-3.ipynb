{
 "cells": [
  {
   "cell_type": "markdown",
   "id": "2803e232",
   "metadata": {},
   "source": [
    "# Hypothesis_Testing_Assignment_Question-3"
   ]
  },
  {
   "cell_type": "markdown",
   "id": "37545cf5",
   "metadata": {},
   "source": [
    "## (III) Buyer's Ration"
   ]
  },
  {
   "cell_type": "markdown",
   "id": "cdd4975f",
   "metadata": {},
   "source": [
    "### Statement : Sales of products in four different regions is tabulated for males and females. Find if male-female buyer rations are similar across regions."
   ]
  },
  {
   "cell_type": "markdown",
   "id": "15b96cb4",
   "metadata": {},
   "source": [
    "### Hypothesis Formulation :\n",
    "\n",
    "#### H0 :  There is significance in proportion of males and females in all the regions .i.e All the proportions are equal.\n",
    "#### Ha :  There is no significance in proportion of males and females in all the regions .i.e Not all the proportions are equal."
   ]
  },
  {
   "cell_type": "markdown",
   "id": "01107f91",
   "metadata": {},
   "source": [
    "### Importing libraries :"
   ]
  },
  {
   "cell_type": "code",
   "execution_count": 1,
   "id": "2fe4ee6c",
   "metadata": {},
   "outputs": [],
   "source": [
    "import pandas as pd\n",
    "import numpy as np"
   ]
  },
  {
   "cell_type": "markdown",
   "id": "d891a6b0",
   "metadata": {},
   "source": [
    "### Importing dataset :"
   ]
  },
  {
   "cell_type": "code",
   "execution_count": 12,
   "id": "3044304b",
   "metadata": {},
   "outputs": [
    {
     "data": {
      "text/html": [
       "<div>\n",
       "<style scoped>\n",
       "    .dataframe tbody tr th:only-of-type {\n",
       "        vertical-align: middle;\n",
       "    }\n",
       "\n",
       "    .dataframe tbody tr th {\n",
       "        vertical-align: top;\n",
       "    }\n",
       "\n",
       "    .dataframe thead th {\n",
       "        text-align: right;\n",
       "    }\n",
       "</style>\n",
       "<table border=\"1\" class=\"dataframe\">\n",
       "  <thead>\n",
       "    <tr style=\"text-align: right;\">\n",
       "      <th></th>\n",
       "      <th>Observed Values</th>\n",
       "      <th>East</th>\n",
       "      <th>West</th>\n",
       "      <th>North</th>\n",
       "      <th>South</th>\n",
       "    </tr>\n",
       "  </thead>\n",
       "  <tbody>\n",
       "    <tr>\n",
       "      <th>0</th>\n",
       "      <td>Males</td>\n",
       "      <td>50</td>\n",
       "      <td>142</td>\n",
       "      <td>131</td>\n",
       "      <td>70</td>\n",
       "    </tr>\n",
       "    <tr>\n",
       "      <th>1</th>\n",
       "      <td>Females</td>\n",
       "      <td>435</td>\n",
       "      <td>1523</td>\n",
       "      <td>1356</td>\n",
       "      <td>750</td>\n",
       "    </tr>\n",
       "  </tbody>\n",
       "</table>\n",
       "</div>"
      ],
      "text/plain": [
       "  Observed Values  East  West  North  South\n",
       "0           Males    50   142    131     70\n",
       "1         Females   435  1523   1356    750"
      ]
     },
     "execution_count": 12,
     "metadata": {},
     "output_type": "execute_result"
    }
   ],
   "source": [
    "buyer_ration_dataset = pd.read_csv('BuyerRatio.csv',sep=',')\n",
    "buyer_ration_dataset"
   ]
  },
  {
   "cell_type": "markdown",
   "id": "28847d14",
   "metadata": {},
   "source": [
    "### Initial Analysis :"
   ]
  },
  {
   "cell_type": "code",
   "execution_count": 13,
   "id": "13748e9e",
   "metadata": {},
   "outputs": [
    {
     "data": {
      "text/plain": [
       "(2, 5)"
      ]
     },
     "execution_count": 13,
     "metadata": {},
     "output_type": "execute_result"
    }
   ],
   "source": [
    "buyer_ration_dataset.shape"
   ]
  },
  {
   "cell_type": "code",
   "execution_count": 14,
   "id": "7b5cee60",
   "metadata": {},
   "outputs": [
    {
     "name": "stdout",
     "output_type": "stream",
     "text": [
      "<class 'pandas.core.frame.DataFrame'>\n",
      "RangeIndex: 2 entries, 0 to 1\n",
      "Data columns (total 5 columns):\n",
      " #   Column           Non-Null Count  Dtype \n",
      "---  ------           --------------  ----- \n",
      " 0   Observed Values  2 non-null      object\n",
      " 1   East             2 non-null      int64 \n",
      " 2   West             2 non-null      int64 \n",
      " 3   North            2 non-null      int64 \n",
      " 4   South            2 non-null      int64 \n",
      "dtypes: int64(4), object(1)\n",
      "memory usage: 208.0+ bytes\n"
     ]
    }
   ],
   "source": [
    "buyer_ration_dataset.info()"
   ]
  },
  {
   "cell_type": "code",
   "execution_count": 15,
   "id": "e3c32a3c",
   "metadata": {},
   "outputs": [
    {
     "data": {
      "text/plain": [
       "Observed Values    0\n",
       "East               0\n",
       "West               0\n",
       "North              0\n",
       "South              0\n",
       "dtype: int64"
      ]
     },
     "execution_count": 15,
     "metadata": {},
     "output_type": "execute_result"
    }
   ],
   "source": [
    "buyer_ration_dataset.isna().sum()"
   ]
  },
  {
   "cell_type": "code",
   "execution_count": 16,
   "id": "310fe325",
   "metadata": {},
   "outputs": [
    {
     "data": {
      "text/html": [
       "<div>\n",
       "<style scoped>\n",
       "    .dataframe tbody tr th:only-of-type {\n",
       "        vertical-align: middle;\n",
       "    }\n",
       "\n",
       "    .dataframe tbody tr th {\n",
       "        vertical-align: top;\n",
       "    }\n",
       "\n",
       "    .dataframe thead th {\n",
       "        text-align: right;\n",
       "    }\n",
       "</style>\n",
       "<table border=\"1\" class=\"dataframe\">\n",
       "  <thead>\n",
       "    <tr style=\"text-align: right;\">\n",
       "      <th></th>\n",
       "      <th>East</th>\n",
       "      <th>West</th>\n",
       "      <th>North</th>\n",
       "      <th>South</th>\n",
       "    </tr>\n",
       "  </thead>\n",
       "  <tbody>\n",
       "    <tr>\n",
       "      <th>count</th>\n",
       "      <td>2.000000</td>\n",
       "      <td>2.000000</td>\n",
       "      <td>2.000000</td>\n",
       "      <td>2.000000</td>\n",
       "    </tr>\n",
       "    <tr>\n",
       "      <th>mean</th>\n",
       "      <td>242.500000</td>\n",
       "      <td>832.500000</td>\n",
       "      <td>743.500000</td>\n",
       "      <td>410.000000</td>\n",
       "    </tr>\n",
       "    <tr>\n",
       "      <th>std</th>\n",
       "      <td>272.236111</td>\n",
       "      <td>976.514465</td>\n",
       "      <td>866.205807</td>\n",
       "      <td>480.832611</td>\n",
       "    </tr>\n",
       "    <tr>\n",
       "      <th>min</th>\n",
       "      <td>50.000000</td>\n",
       "      <td>142.000000</td>\n",
       "      <td>131.000000</td>\n",
       "      <td>70.000000</td>\n",
       "    </tr>\n",
       "    <tr>\n",
       "      <th>25%</th>\n",
       "      <td>146.250000</td>\n",
       "      <td>487.250000</td>\n",
       "      <td>437.250000</td>\n",
       "      <td>240.000000</td>\n",
       "    </tr>\n",
       "    <tr>\n",
       "      <th>50%</th>\n",
       "      <td>242.500000</td>\n",
       "      <td>832.500000</td>\n",
       "      <td>743.500000</td>\n",
       "      <td>410.000000</td>\n",
       "    </tr>\n",
       "    <tr>\n",
       "      <th>75%</th>\n",
       "      <td>338.750000</td>\n",
       "      <td>1177.750000</td>\n",
       "      <td>1049.750000</td>\n",
       "      <td>580.000000</td>\n",
       "    </tr>\n",
       "    <tr>\n",
       "      <th>max</th>\n",
       "      <td>435.000000</td>\n",
       "      <td>1523.000000</td>\n",
       "      <td>1356.000000</td>\n",
       "      <td>750.000000</td>\n",
       "    </tr>\n",
       "  </tbody>\n",
       "</table>\n",
       "</div>"
      ],
      "text/plain": [
       "             East         West        North       South\n",
       "count    2.000000     2.000000     2.000000    2.000000\n",
       "mean   242.500000   832.500000   743.500000  410.000000\n",
       "std    272.236111   976.514465   866.205807  480.832611\n",
       "min     50.000000   142.000000   131.000000   70.000000\n",
       "25%    146.250000   487.250000   437.250000  240.000000\n",
       "50%    242.500000   832.500000   743.500000  410.000000\n",
       "75%    338.750000  1177.750000  1049.750000  580.000000\n",
       "max    435.000000  1523.000000  1356.000000  750.000000"
      ]
     },
     "execution_count": 16,
     "metadata": {},
     "output_type": "execute_result"
    }
   ],
   "source": [
    "buyer_ration_dataset.describe()"
   ]
  },
  {
   "cell_type": "markdown",
   "id": "29598f5f",
   "metadata": {},
   "source": [
    "### Statistic test :\n",
    "\n",
    "#### We can perform Chi-square test for independence is often used to examine independence between two categorical variables."
   ]
  },
  {
   "cell_type": "code",
   "execution_count": 6,
   "id": "a521b8b1",
   "metadata": {},
   "outputs": [],
   "source": [
    "from scipy import stats"
   ]
  },
  {
   "cell_type": "markdown",
   "id": "5ba8f58d",
   "metadata": {},
   "source": [
    "#### ** We cannot perfom chi square test directly on the 'buyers_ratio_dataset' because it has object values. So we have to create an observation table array."
   ]
  },
  {
   "cell_type": "code",
   "execution_count": 7,
   "id": "634559ae",
   "metadata": {},
   "outputs": [
    {
     "data": {
      "text/html": [
       "<div>\n",
       "<style scoped>\n",
       "    .dataframe tbody tr th:only-of-type {\n",
       "        vertical-align: middle;\n",
       "    }\n",
       "\n",
       "    .dataframe tbody tr th {\n",
       "        vertical-align: top;\n",
       "    }\n",
       "\n",
       "    .dataframe thead th {\n",
       "        text-align: right;\n",
       "    }\n",
       "</style>\n",
       "<table border=\"1\" class=\"dataframe\">\n",
       "  <thead>\n",
       "    <tr style=\"text-align: right;\">\n",
       "      <th></th>\n",
       "      <th>East</th>\n",
       "      <th>West</th>\n",
       "      <th>North</th>\n",
       "      <th>South</th>\n",
       "    </tr>\n",
       "  </thead>\n",
       "  <tbody>\n",
       "    <tr>\n",
       "      <th>Male</th>\n",
       "      <td>50</td>\n",
       "      <td>142</td>\n",
       "      <td>131</td>\n",
       "      <td>70</td>\n",
       "    </tr>\n",
       "    <tr>\n",
       "      <th>Female</th>\n",
       "      <td>435</td>\n",
       "      <td>1523</td>\n",
       "      <td>1356</td>\n",
       "      <td>750</td>\n",
       "    </tr>\n",
       "  </tbody>\n",
       "</table>\n",
       "</div>"
      ],
      "text/plain": [
       "        East  West  North  South\n",
       "Male      50   142    131     70\n",
       "Female   435  1523   1356    750"
      ]
     },
     "execution_count": 7,
     "metadata": {},
     "output_type": "execute_result"
    }
   ],
   "source": [
    "observation_table_array=([[50,142,131,70],[435,1523,1356,750]])\n",
    "observation_table= pd.DataFrame(observation_table_array,index=['Male','Female'],columns=['East','West','North','South'])\n",
    "observation_table"
   ]
  },
  {
   "cell_type": "code",
   "execution_count": 9,
   "id": "3edb8a10",
   "metadata": {},
   "outputs": [
    {
     "name": "stdout",
     "output_type": "stream",
     "text": [
      "Chi 2 square test\n",
      "------------------------\n",
      "\n",
      "Chi-squared value  : 1.595945538661058\n",
      "P-value            : 0.6603094907091882\n",
      "Degrees of freedom : 3\n",
      "Expected table     :\n",
      " [[  42.76531299  146.81287862  131.11756787   72.30424052]\n",
      " [ 442.23468701 1518.18712138 1355.88243213  747.69575948]]\n"
     ]
    }
   ],
   "source": [
    "# Chi 2 square test:\n",
    "# Syntax - stats.chi2_contingency(observed)\n",
    "\n",
    "print('Chi 2 square test')\n",
    "print('------------------------\\n')\n",
    "chi2_value,pvalue,dof,expected_table =stats.chi2_contingency(observed= observation_table)\n",
    "print('Chi-squared value  :',chi2_value)\n",
    "print('P-value            :',pvalue)\n",
    "print('Degrees of freedom :',dof)\n",
    "print('Expected table     :\\n',expected_table)"
   ]
  },
  {
   "cell_type": "markdown",
   "id": "06b08ce6",
   "metadata": {},
   "source": [
    "### P-value check for hypothesis testing :"
   ]
  },
  {
   "cell_type": "code",
   "execution_count": 11,
   "id": "8080d995",
   "metadata": {},
   "outputs": [
    {
     "name": "stdout",
     "output_type": "stream",
     "text": [
      "We do not reject the null hypothesis and claim that there is significant in proportions of males and females i.e. All proportions are equal\n"
     ]
    }
   ],
   "source": [
    "# Assume alpha value be 0.05.\n",
    "\n",
    "if pvalue < 0.05:\n",
    "    print('We can reject the null hypothesis and claim that there is no significant in proportions of males and females i.e. Not all proportions are equal')\n",
    "else:\n",
    "    print('We do not reject the null hypothesis and claim that there is significant in proportions of males and females i.e. All proportions are equal')"
   ]
  },
  {
   "cell_type": "code",
   "execution_count": null,
   "id": "a929b512",
   "metadata": {},
   "outputs": [],
   "source": []
  }
 ],
 "metadata": {
  "kernelspec": {
   "display_name": "Python 3",
   "language": "python",
   "name": "python3"
  },
  "language_info": {
   "codemirror_mode": {
    "name": "ipython",
    "version": 3
   },
   "file_extension": ".py",
   "mimetype": "text/x-python",
   "name": "python",
   "nbconvert_exporter": "python",
   "pygments_lexer": "ipython3",
   "version": "3.8.8"
  }
 },
 "nbformat": 4,
 "nbformat_minor": 5
}
